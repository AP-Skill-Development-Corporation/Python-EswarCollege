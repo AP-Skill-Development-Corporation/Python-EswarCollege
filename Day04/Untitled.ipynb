{
 "cells": [
  {
   "cell_type": "code",
   "execution_count": 1,
   "id": "63ca795b",
   "metadata": {},
   "outputs": [],
   "source": [
    "# [ ] --->(*Set or group*)  group of combination \n",
    "                   #  of chars & numbers etc.\n",
    "# \\  ---> Special sequence\n",
    "# .  ---> represent a Unknown character\n",
    "# ^  ----> (*Caret*)starts with\n",
    "# $  ---> (*Dollar*)ends with\n",
    "# * ---> 0 or more occorance\n",
    "# + ---> 1 or more occorance\n",
    "# { } ----> Exactly the specified no.of occorance\n",
    "# |  ----> or\n",
    "# () ---> Group"
   ]
  },
  {
   "cell_type": "code",
   "execution_count": 2,
   "id": "1f0ba236",
   "metadata": {},
   "outputs": [],
   "source": [
    "## \\ ---> (Special Sequence)\n",
    "#===========================\n",
    "# \\d --> Any digit\n",
    "# \\D --> non-digit\n",
    "# \\s --> whitesapce (Returns 'space')\n",
    "# \\S --> non-whitespace (Removes 'space')\n",
    "# \\w --> alphanumeric\n",
    "# \\W --> non-alphanumeric (Ex: !@#$%^)"
   ]
  },
  {
   "cell_type": "code",
   "execution_count": null,
   "id": "457e769a",
   "metadata": {},
   "outputs": [],
   "source": []
  }
 ],
 "metadata": {
  "kernelspec": {
   "display_name": "Python 3",
   "language": "python",
   "name": "python3"
  },
  "language_info": {
   "codemirror_mode": {
    "name": "ipython",
    "version": 3
   },
   "file_extension": ".py",
   "mimetype": "text/x-python",
   "name": "python",
   "nbconvert_exporter": "python",
   "pygments_lexer": "ipython3",
   "version": "3.8.8"
  }
 },
 "nbformat": 4,
 "nbformat_minor": 5
}
