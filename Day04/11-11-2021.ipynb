{
 "cells": [
  {
   "cell_type": "markdown",
   "id": "1c1f84c4",
   "metadata": {},
   "source": [
    "**Dictionaries**\n",
    "- pair of Keys and Values seperted with :\n",
    "- { }\n",
    "- keys are act as an index of value.\n",
    "- Keys must be unique"
   ]
  },
  {
   "cell_type": "code",
   "execution_count": 3,
   "id": "cfe68f5e",
   "metadata": {},
   "outputs": [],
   "source": [
    "# Craete  a dictionary\n",
    "d1 = dict()\n",
    "d2 = {'key1':'value1',2 : 'value2', 3:300}"
   ]
  },
  {
   "cell_type": "code",
   "execution_count": 4,
   "id": "f74b9fe9",
   "metadata": {},
   "outputs": [
    {
     "data": {
      "text/plain": [
       "{'key1': 'value1', 2: 'value2', 3: 300}"
      ]
     },
     "execution_count": 4,
     "metadata": {},
     "output_type": "execute_result"
    }
   ],
   "source": [
    "d2"
   ]
  },
  {
   "cell_type": "code",
   "execution_count": 5,
   "id": "c3943540",
   "metadata": {
    "collapsed": true
   },
   "outputs": [
    {
     "data": {
      "text/plain": [
       "300"
      ]
     },
     "execution_count": 5,
     "metadata": {},
     "output_type": "execute_result"
    }
   ],
   "source": [
    "d2[3]# to get the value"
   ]
  },
  {
   "cell_type": "code",
   "execution_count": 6,
   "id": "8df02762",
   "metadata": {
    "collapsed": true
   },
   "outputs": [
    {
     "data": {
      "text/plain": [
       "{'a': 12, 'b': 13, 'c': 14}"
      ]
     },
     "execution_count": 6,
     "metadata": {},
     "output_type": "execute_result"
    }
   ],
   "source": [
    "d3 = {'a':11, 'a':12, 'b':13, 'c':14}\n",
    "d3"
   ]
  },
  {
   "cell_type": "markdown",
   "id": "c6970905",
   "metadata": {},
   "source": [
    "- Methods"
   ]
  },
  {
   "cell_type": "code",
   "execution_count": 7,
   "id": "ac4f9641",
   "metadata": {
    "collapsed": true
   },
   "outputs": [
    {
     "name": "stdout",
     "output_type": "stream",
     "text": [
      "['__class__', '__contains__', '__delattr__', '__delitem__', '__dir__', '__doc__', '__eq__', '__format__', '__ge__', '__getattribute__', '__getitem__', '__gt__', '__hash__', '__init__', '__init_subclass__', '__iter__', '__le__', '__len__', '__lt__', '__ne__', '__new__', '__reduce__', '__reduce_ex__', '__repr__', '__reversed__', '__setattr__', '__setitem__', '__sizeof__', '__str__', '__subclasshook__', 'clear', 'copy', 'fromkeys', 'get', 'items', 'keys', 'pop', 'popitem', 'setdefault', 'update', 'values']\n"
     ]
    }
   ],
   "source": [
    "print(dir(dict))"
   ]
  },
  {
   "cell_type": "code",
   "execution_count": 8,
   "id": "5c8952f8",
   "metadata": {
    "collapsed": true
   },
   "outputs": [
    {
     "data": {
      "text/plain": [
       "{100: 'abc', 200: 66, 300: 9.07, 400: 'xyz'}"
      ]
     },
     "execution_count": 8,
     "metadata": {},
     "output_type": "execute_result"
    }
   ],
   "source": [
    "d4 = {100:'abc',200:66,300:9.07,400:'xyz'}\n",
    "d4"
   ]
  },
  {
   "cell_type": "code",
   "execution_count": 9,
   "id": "42968281",
   "metadata": {},
   "outputs": [],
   "source": [
    "d4[100] = 12.11"
   ]
  },
  {
   "cell_type": "code",
   "execution_count": 10,
   "id": "2a2087b7",
   "metadata": {
    "collapsed": true
   },
   "outputs": [
    {
     "data": {
      "text/plain": [
       "{100: 12.11, 200: 66, 300: 9.07, 400: 'xyz'}"
      ]
     },
     "execution_count": 10,
     "metadata": {},
     "output_type": "execute_result"
    }
   ],
   "source": [
    "d4"
   ]
  },
  {
   "cell_type": "code",
   "execution_count": 11,
   "id": "e4f9790d",
   "metadata": {
    "collapsed": true
   },
   "outputs": [
    {
     "data": {
      "text/plain": [
       "dict_keys([100, 200, 300, 400])"
      ]
     },
     "execution_count": 11,
     "metadata": {},
     "output_type": "execute_result"
    }
   ],
   "source": [
    "d4.keys()"
   ]
  },
  {
   "cell_type": "code",
   "execution_count": 12,
   "id": "d105705d",
   "metadata": {
    "collapsed": true
   },
   "outputs": [
    {
     "data": {
      "text/plain": [
       "dict_values([12.11, 66, 9.07, 'xyz'])"
      ]
     },
     "execution_count": 12,
     "metadata": {},
     "output_type": "execute_result"
    }
   ],
   "source": [
    "d4.values()"
   ]
  },
  {
   "cell_type": "code",
   "execution_count": 13,
   "id": "0876074b",
   "metadata": {
    "collapsed": true
   },
   "outputs": [
    {
     "data": {
      "text/plain": [
       "dict_items([(100, 12.11), (200, 66), (300, 9.07), (400, 'xyz')])"
      ]
     },
     "execution_count": 13,
     "metadata": {},
     "output_type": "execute_result"
    }
   ],
   "source": [
    "d4.items()"
   ]
  },
  {
   "cell_type": "code",
   "execution_count": 14,
   "id": "8d40224b",
   "metadata": {
    "collapsed": true
   },
   "outputs": [
    {
     "name": "stdout",
     "output_type": "stream",
     "text": [
      "100\n",
      "200\n",
      "300\n",
      "400\n"
     ]
    }
   ],
   "source": [
    "for i in d4.keys():\n",
    "    print(i)"
   ]
  },
  {
   "cell_type": "code",
   "execution_count": 15,
   "id": "fc5cbec1",
   "metadata": {
    "collapsed": true
   },
   "outputs": [
    {
     "name": "stdout",
     "output_type": "stream",
     "text": [
      "12.11\n",
      "66\n",
      "9.07\n",
      "xyz\n"
     ]
    }
   ],
   "source": [
    "for i in d4.values():\n",
    "    print(i)"
   ]
  },
  {
   "cell_type": "code",
   "execution_count": 17,
   "id": "a0d00487",
   "metadata": {
    "collapsed": true
   },
   "outputs": [
    {
     "name": "stdout",
     "output_type": "stream",
     "text": [
      "(100, 12.11) <class 'tuple'>\n",
      "(200, 66) <class 'tuple'>\n",
      "(300, 9.07) <class 'tuple'>\n",
      "(400, 'xyz') <class 'tuple'>\n"
     ]
    }
   ],
   "source": [
    "for i in d4.items():\n",
    "    print(i, type(i))"
   ]
  },
  {
   "cell_type": "code",
   "execution_count": 18,
   "id": "f0efea59",
   "metadata": {
    "collapsed": true
   },
   "outputs": [
    {
     "name": "stdout",
     "output_type": "stream",
     "text": [
      "100 12.11\n",
      "200 66\n",
      "300 9.07\n",
      "400 xyz\n"
     ]
    }
   ],
   "source": [
    "for i, k in d4.items():\n",
    "    print(i, k)"
   ]
  },
  {
   "cell_type": "code",
   "execution_count": 19,
   "id": "d75a87fb",
   "metadata": {},
   "outputs": [],
   "source": [
    "d5 = {}\n",
    "d5[100] = 366"
   ]
  },
  {
   "cell_type": "code",
   "execution_count": 20,
   "id": "01300db0",
   "metadata": {
    "collapsed": true
   },
   "outputs": [
    {
     "data": {
      "text/plain": [
       "{100: 366}"
      ]
     },
     "execution_count": 20,
     "metadata": {},
     "output_type": "execute_result"
    }
   ],
   "source": [
    "d5"
   ]
  },
  {
   "cell_type": "markdown",
   "id": "80e301fe",
   "metadata": {},
   "source": [
    "- Input -->list1 = [1,1,2,77,2,8.0,8.4,7,4,4]\n",
    "- Output --> dict1 = {1:2, 2:2, 77:1, 8.0:1, 8.4:1, 7:1, 4:2} "
   ]
  },
  {
   "cell_type": "markdown",
   "id": "db14c552",
   "metadata": {},
   "source": [
    "### Packages and Modules\n",
    "- module is a python file(.py) which contains python code\n",
    "    - Syntax: import module_name\n",
    "- Package is a collection of modules.\n",
    "- Types of modules\n",
    "    - Pre-Defined modules\n",
    "    - User defined modules"
   ]
  },
  {
   "cell_type": "code",
   "execution_count": 21,
   "id": "a2df4f51",
   "metadata": {
    "scrolled": true
   },
   "outputs": [
    {
     "name": "stdout",
     "output_type": "stream",
     "text": [
      "\n",
      "Please wait a moment while I gather a list of all available modules...\n",
      "\n"
     ]
    },
    {
     "name": "stderr",
     "output_type": "stream",
     "text": [
      "C:\\Users\\onlinelab 008\\anaconda3\\lib\\site-packages\\IPython\\kernel\\__init__.py:12: ShimWarning: The `IPython.kernel` package has been deprecated since IPython 4.0.You should import from ipykernel or jupyter_client instead.\n",
      "  warn(\"The `IPython.kernel` package has been deprecated since IPython 4.0.\"\n",
      "WARNING: AstropyDeprecationWarning: The private astropy._erfa module has been made into its own package, pyerfa, which is a dependency of astropy and can be imported directly using \"import erfa\" [astropy._erfa]\n",
      "Matplotlib is building the font cache; this may take a moment.\n",
      "C:\\Users\\onlinelab 008\\anaconda3\\lib\\pkgutil.py:92: MatplotlibDeprecationWarning: \n",
      "The matplotlib.compat module was deprecated in Matplotlib 3.3 and will be removed two minor releases later.\n",
      "  __import__(info.name)\n",
      "C:\\Users\\onlinelab 008\\anaconda3\\lib\\site-packages\\nltk\\twitter\\__init__.py:21: UserWarning: The twython library has not been installed. Some functionality from the twitter package will not be available.\n",
      "  warnings.warn(\n",
      "C:\\Users\\onlinelab 008\\anaconda3\\lib\\site-packages\\skimage\\viewer\\utils\\__init__.py:1: UserWarning: Recommended matplotlib backend is `Agg` for full skimage.viewer functionality.\n",
      "  from .core import *\n"
     ]
    },
    {
     "name": "stdout",
     "output_type": "stream",
     "text": [
      "Update LANGUAGE_CODES (inside config/base.py) if a new translation has been added to Spyder\n"
     ]
    },
    {
     "name": "stderr",
     "output_type": "stream",
     "text": [
      "C:\\Users\\onlinelab 008\\anaconda3\\lib\\site-packages\\qtawesome\\iconic_font.py:313: UserWarning: You need to have a running QApplication to use QtAwesome!\n",
      "  warnings.warn(\"You need to have a running \"\n",
      "C:\\Users\\onlinelab 008\\anaconda3\\lib\\pkgutil.py:107: VisibleDeprecationWarning: zmq.eventloop.minitornado is deprecated in pyzmq 14.0 and will be removed.\n",
      "    Install tornado itself to use zmq with the tornado IOLoop.\n",
      "    \n",
      "  yield from walk_packages(path, info.name+'.', onerror)\n"
     ]
    },
    {
     "name": "stdout",
     "output_type": "stream",
     "text": [
      "Cython              brain_re            mailbox             sniffio\n",
      "IPython             brain_responses     mailcap             snowballstemmer\n",
      "OpenSSL             brain_scipy_signal  markupsafe          socket\n",
      "PIL                 brain_six           marshal             socketserver\n",
      "PyQt5               brain_sqlalchemy    math                socks\n",
      "__future__          brain_ssl           matplotlib          sockshandler\n",
      "_abc                brain_subprocess    mccabe              sortedcollections\n",
      "_ast                brain_threading     menuinst            sortedcontainers\n",
      "_asyncio            brain_type          mimetypes           soupsieve\n",
      "_bisect             brain_typing        mistune             sphinx\n",
      "_black_version      brain_uuid          mkl                 sphinxcontrib\n",
      "_blake2             brotli              mkl_fft             spyder\n",
      "_bootlocale         bs4                 mkl_random          spyder_kernels\n",
      "_bz2                builtins            mmap                sqlalchemy\n",
      "_cffi_backend       bz2                 mmapfile            sqlite3\n",
      "_codecs             cProfile            mmsystem            sre_compile\n",
      "_codecs_cn          calendar            mock                sre_constants\n",
      "_codecs_hk          certifi             modulefinder        sre_parse\n",
      "_codecs_iso2022     cffi                more_itertools      ssl\n",
      "_codecs_jp          cgi                 mpmath              sspi\n",
      "_codecs_kr          cgitb               msgpack             sspicon\n",
      "_codecs_tw          chardet             msilib              stat\n",
      "_collections        chunk               msvcrt              statistics\n",
      "_collections_abc    click               multipledispatch    statsmodels\n",
      "_compat_pickle      cloudpickle         multiprocessing     storemagic\n",
      "_compression        clyent              mypy_extensions     string\n",
      "_contextvars        cmath               nacl                stringprep\n",
      "_csv                cmd                 navigator_updater   struct\n",
      "_ctypes             code                nbclassic           subprocess\n",
      "_ctypes_test        codecs              nbclient            sunau\n",
      "_datetime           codeop              nbconvert           symbol\n",
      "_decimal            collections         nbformat            sympy\n",
      "_distutils_hack     colorama            nest_asyncio        sympyprinting\n",
      "_dummy_thread       colorsys            netbios             symtable\n",
      "_elementtree        commctrl            netrc               sys\n",
      "_functools          compileall          networkx            sysconfig\n",
      "_hashlib            comtypes            nltk                tables\n",
      "_heapq              concurrent          nntplib             tabnanny\n",
      "_imp                conda               nose                tarfile\n",
      "_io                 conda_build         notebook            tblib\n",
      "_json               conda_content_trust nt                  telnetlib\n",
      "_locale             conda_env           ntpath              tempfile\n",
      "_lsprof             conda_package_handling ntsecuritycon       terminado\n",
      "_lzma               conda_token         nturl2path          test\n",
      "_markupbase         conda_verify        numba               test_data\n",
      "_md5                configparser        numbers             test_pycosat\n",
      "_msi                contextlib          numexpr             testpath\n",
      "_multibytecodec     contextlib2         numpy               tests\n",
      "_multiprocessing    contextvars         numpydoc            textdistance\n",
      "_nsis               copy                odbc                textwrap\n",
      "_opcode             copyreg             olefile             this\n",
      "_operator           crypt               opcode              threading\n",
      "_osx_support        cryptography        openpyxl            threadpoolctl\n",
      "_overlapped         csv                 operator            three_merge\n",
      "_pickle             ctypes              optparse            tifffile\n",
      "_py_abc             curl                os                  time\n",
      "_pydecimal          curses              packaging           timeit\n",
      "_pyio               cwp                 pandas              timer\n",
      "_pyrsistent_version cycler              pandocfilters       tkinter\n",
      "_pytest             cython              paramiko            tlz\n",
      "_queue              cythonmagic         parser              token\n",
      "_random             cytoolz             parso               tokenize\n",
      "_sha1               dask                partd               toml\n",
      "_sha256             dataclasses         past                toolz\n",
      "_sha3               datetime            path                tornado\n",
      "_sha512             dateutil            pathlib             tqdm\n",
      "_signal             dbi                 pathlib2            trace\n",
      "_sitebuiltins       dbm                 pathspec            traceback\n",
      "_socket             dde                 patsy               tracemalloc\n",
      "_sqlite3            decimal             pdb                 traitlets\n",
      "_sre                decorator           pep8                tty\n",
      "_ssl                defusedxml          perfmon             turtle\n",
      "_stat               diff_match_patch    pexpect             turtledemo\n",
      "_statistics         difflib             pickle              typed_ast\n",
      "_string             dis                 pickleshare         types\n",
      "_strptime           distributed         pickletools         typing\n",
      "_struct             distutils           pip                 typing_extensions\n",
      "_symtable           doctest             pipes               ujson\n",
      "_system_path        docutils            pkg_resources       unicodecsv\n",
      "_testbuffer         dummy_threading     pkginfo             unicodedata\n",
      "_testcapi           email               pkgutil             unittest\n",
      "_testconsole        encodings           platform            urllib\n",
      "_testimportmultiple ensurepip           plistlib            urllib3\n",
      "_testinternalcapi   entrypoints         pluggy              uu\n",
      "_testmultiphase     enum                ply                 uuid\n",
      "_thread             erfa                poplib              venv\n",
      "_threading_local    errno               posixpath           warnings\n",
      "_tkinter            et_xmlfile          pprint              watchdog\n",
      "_tracemalloc        fastcache           profile             wave\n",
      "_warnings           faulthandler        prometheus_client   wcwidth\n",
      "_weakref            filecmp             prompt_toolkit      weakref\n",
      "_weakrefset         fileinput           pstats              webbrowser\n",
      "_win32sysloader     filelock            psutil              webencodings\n",
      "_winapi             flake8              pty                 werkzeug\n",
      "_winxptheme         flask               ptyprocess          wheel\n",
      "_xxsubinterpreters  fnmatch             pvectorc            widgetsnbextension\n",
      "_yaml               formatter           py                  win2kras\n",
      "abc                 fractions           py_compile          win32api\n",
      "adodbapi            fsspec              pyclbr              win32clipboard\n",
      "afxres              ftplib              pycodestyle         win32com\n",
      "aifc                functools           pycosat             win32con\n",
      "alabaster           future              pycparser           win32console\n",
      "anaconda_navigator  gc                  pycurl              win32cred\n",
      "anaconda_project    genericpath         pydoc               win32crypt\n",
      "antigravity         getopt              pydoc_data          win32cryptcon\n",
      "anyio               getpass             pydocstyle          win32ctypes\n",
      "appdirs             gettext             pyexpat             win32event\n",
      "argh                gevent              pyflakes            win32evtlog\n",
      "argon2              glob                pygments            win32evtlogutil\n",
      "argparse            glob2               pylab               win32file\n",
      "array               greenlet            pylint              win32gui\n",
      "asn1crypto          gzip                pyls                win32gui_struct\n",
      "ast                 h5py                pyls_black          win32help\n",
      "astroid             hashlib             pyls_jsonrpc        win32inet\n",
      "astropy             heapdict            pyls_spyder         win32inetcon\n",
      "async_generator     heapq               pyodbc              win32job\n",
      "asynchat            hmac                pyparsing           win32lz\n",
      "asyncio             html                pyreadline          win32net\n"
     ]
    },
    {
     "name": "stdout",
     "output_type": "stream",
     "text": [
      "asyncore            html5lib            pyrsistent          win32netcon\n",
      "atexit              http                pytest              win32pdh\n",
      "atomicwrites        idlelib             pythoncom           win32pdhquery\n",
      "attr                idna                pytz                win32pdhutil\n",
      "audioop             imagecodecs         pywin               win32pipe\n",
      "autopep8            imageio             pywin32_bootstrap   win32print\n",
      "autoreload          imagesize           pywin32_testutil    win32process\n",
      "babel               imaplib             pywintypes          win32profile\n",
      "backcall            imghdr              pywt                win32ras\n",
      "backports           imp                 pyximport           win32rcparser\n",
      "base64              importlib           qdarkstyle          win32security\n",
      "bcrypt              importlib_metadata  qtawesome           win32service\n",
      "bdb                 iniconfig           qtconsole           win32serviceutil\n",
      "binascii            inspect             qtpy                win32timezone\n",
      "binhex              intervaltree        queue               win32trace\n",
      "binstar_client      io                  quopri              win32traceutil\n",
      "bisect              ipaddress           random              win32transaction\n",
      "bitarray            ipykernel           rasutil             win32ts\n",
      "bkcharts            ipykernel_launcher  re                  win32ui\n",
      "black               ipython_genutils    readline            win32uiole\n",
      "blackd              ipywidgets          regcheck            win32verstamp\n",
      "bleach              isapi               regex               win32wnet\n",
      "blib2to3            isort               regutil             win_inet_pton\n",
      "bokeh               isympy              repo_cli            win_unicode_console\n",
      "boto                itertools           reprlib             wincertstore\n",
      "bottleneck          itsdangerous        requests            winerror\n",
      "brain_argparse      jdcal               rlcompleter         winioctlcon\n",
      "brain_attrs         jedi                rmagic              winnt\n",
      "brain_boto3         jinja2              rope                winperf\n",
      "brain_builtin_inference joblib              rtree               winpty\n",
      "brain_collections   json                ruamel_yaml         winreg\n",
      "brain_crypt         json5               run                 winsound\n",
      "brain_curses        jsonschema          runpy               winxpgui\n",
      "brain_dataclasses   jupyter             sched               winxptheme\n",
      "brain_dateutil      jupyter_client      scipy               wrapt\n",
      "brain_fstrings      jupyter_console     scripts             wsgiref\n",
      "brain_functools     jupyter_core        seaborn             xdrlib\n",
      "brain_gi            jupyter_packaging   secrets             xlrd\n",
      "brain_hashlib       jupyter_server      select              xlsxwriter\n",
      "brain_http          jupyterlab          selectors           xlwings\n",
      "brain_hypothesis    jupyterlab_pygments send2trash          xlwt\n",
      "brain_io            jupyterlab_server   servicemanager      xml\n",
      "brain_mechanize     jupyterlab_widgets  setuptools          xmlrpc\n",
      "brain_multiprocessing keyring             shelve              xmltodict\n",
      "brain_namedtuple_enum keyword             shlex               xxsubtype\n",
      "brain_nose          kiwisolver          shutil              yaml\n",
      "brain_numpy_core_fromnumeric lazy_object_proxy   signal              yapf\n",
      "brain_numpy_core_function_base lib2to3             simplegeneric       yapftests\n",
      "brain_numpy_core_multiarray libarchive          singledispatch      zict\n",
      "brain_numpy_core_numeric libfuturize         sip                 zipapp\n",
      "brain_numpy_core_numerictypes libpasteurize       sipconfig           zipfile\n",
      "brain_numpy_core_umath lief                sipdistutils        zipimport\n",
      "brain_numpy_ndarray linecache           site                zipp\n",
      "brain_numpy_random_mtrand llvmlite            six                 zlib\n",
      "brain_numpy_utils   locale              skimage             zmq\n",
      "brain_pkg_resources locket              sklearn             zope\n",
      "brain_pytest        logging             smtpd               \n",
      "brain_qt            lxml                smtplib             \n",
      "brain_random        lzma                sndhdr              \n",
      "\n",
      "Enter any module name to get more help.  Or, type \"modules spam\" to search\n",
      "for modules whose name or summary contain the string \"spam\".\n",
      "\n"
     ]
    }
   ],
   "source": [
    "help('modules')"
   ]
  },
  {
   "cell_type": "code",
   "execution_count": 22,
   "id": "a302f4ee",
   "metadata": {},
   "outputs": [
    {
     "ename": "NameError",
     "evalue": "name 'pi' is not defined",
     "output_type": "error",
     "traceback": [
      "\u001b[1;31m---------------------------------------------------------------------------\u001b[0m",
      "\u001b[1;31mNameError\u001b[0m                                 Traceback (most recent call last)",
      "\u001b[1;32m<ipython-input-22-9e2d2bd32686>\u001b[0m in \u001b[0;36m<module>\u001b[1;34m\u001b[0m\n\u001b[1;32m----> 1\u001b[1;33m \u001b[0mprint\u001b[0m\u001b[1;33m(\u001b[0m\u001b[0mpi\u001b[0m\u001b[1;33m)\u001b[0m\u001b[1;33m\u001b[0m\u001b[1;33m\u001b[0m\u001b[0m\n\u001b[0m",
      "\u001b[1;31mNameError\u001b[0m: name 'pi' is not defined"
     ]
    }
   ],
   "source": [
    "print(pi)"
   ]
  },
  {
   "cell_type": "code",
   "execution_count": 23,
   "id": "70913b54",
   "metadata": {},
   "outputs": [],
   "source": [
    "import math"
   ]
  },
  {
   "cell_type": "code",
   "execution_count": 30,
   "id": "65a0fa96",
   "metadata": {
    "collapsed": true
   },
   "outputs": [
    {
     "name": "stdout",
     "output_type": "stream",
     "text": [
      "3.141592653589793\n",
      "4.0\n",
      "-0.9880316240928618\n",
      "0.8775825618903728\n"
     ]
    }
   ],
   "source": [
    "print(math.pi)\n",
    "print(math.sqrt(16))\n",
    "print(math.sin(30))\n",
    "print(math.cos(1/2))"
   ]
  },
  {
   "cell_type": "code",
   "execution_count": 26,
   "id": "3d1e05fa",
   "metadata": {
    "collapsed": true
   },
   "outputs": [
    {
     "name": "stdout",
     "output_type": "stream",
     "text": [
      "['__doc__', '__loader__', '__name__', '__package__', '__spec__', 'acos', 'acosh', 'asin', 'asinh', 'atan', 'atan2', 'atanh', 'ceil', 'comb', 'copysign', 'cos', 'cosh', 'degrees', 'dist', 'e', 'erf', 'erfc', 'exp', 'expm1', 'fabs', 'factorial', 'floor', 'fmod', 'frexp', 'fsum', 'gamma', 'gcd', 'hypot', 'inf', 'isclose', 'isfinite', 'isinf', 'isnan', 'isqrt', 'ldexp', 'lgamma', 'log', 'log10', 'log1p', 'log2', 'modf', 'nan', 'perm', 'pi', 'pow', 'prod', 'radians', 'remainder', 'sin', 'sinh', 'sqrt', 'tan', 'tanh', 'tau', 'trunc']\n"
     ]
    }
   ],
   "source": [
    "print(dir(math))"
   ]
  },
  {
   "cell_type": "code",
   "execution_count": 31,
   "id": "3c14e5d5",
   "metadata": {},
   "outputs": [],
   "source": [
    "import calendar"
   ]
  },
  {
   "cell_type": "code",
   "execution_count": 32,
   "id": "6240b821",
   "metadata": {
    "collapsed": true
   },
   "outputs": [
    {
     "name": "stdout",
     "output_type": "stream",
     "text": [
      "                                  2021\n",
      "\n",
      "      January                   February                   March\n",
      "Mo Tu We Th Fr Sa Su      Mo Tu We Th Fr Sa Su      Mo Tu We Th Fr Sa Su\n",
      "             1  2  3       1  2  3  4  5  6  7       1  2  3  4  5  6  7\n",
      " 4  5  6  7  8  9 10       8  9 10 11 12 13 14       8  9 10 11 12 13 14\n",
      "11 12 13 14 15 16 17      15 16 17 18 19 20 21      15 16 17 18 19 20 21\n",
      "18 19 20 21 22 23 24      22 23 24 25 26 27 28      22 23 24 25 26 27 28\n",
      "25 26 27 28 29 30 31                                29 30 31\n",
      "\n",
      "       April                      May                       June\n",
      "Mo Tu We Th Fr Sa Su      Mo Tu We Th Fr Sa Su      Mo Tu We Th Fr Sa Su\n",
      "          1  2  3  4                      1  2          1  2  3  4  5  6\n",
      " 5  6  7  8  9 10 11       3  4  5  6  7  8  9       7  8  9 10 11 12 13\n",
      "12 13 14 15 16 17 18      10 11 12 13 14 15 16      14 15 16 17 18 19 20\n",
      "19 20 21 22 23 24 25      17 18 19 20 21 22 23      21 22 23 24 25 26 27\n",
      "26 27 28 29 30            24 25 26 27 28 29 30      28 29 30\n",
      "                          31\n",
      "\n",
      "        July                     August                  September\n",
      "Mo Tu We Th Fr Sa Su      Mo Tu We Th Fr Sa Su      Mo Tu We Th Fr Sa Su\n",
      "          1  2  3  4                         1             1  2  3  4  5\n",
      " 5  6  7  8  9 10 11       2  3  4  5  6  7  8       6  7  8  9 10 11 12\n",
      "12 13 14 15 16 17 18       9 10 11 12 13 14 15      13 14 15 16 17 18 19\n",
      "19 20 21 22 23 24 25      16 17 18 19 20 21 22      20 21 22 23 24 25 26\n",
      "26 27 28 29 30 31         23 24 25 26 27 28 29      27 28 29 30\n",
      "                          30 31\n",
      "\n",
      "      October                   November                  December\n",
      "Mo Tu We Th Fr Sa Su      Mo Tu We Th Fr Sa Su      Mo Tu We Th Fr Sa Su\n",
      "             1  2  3       1  2  3  4  5  6  7             1  2  3  4  5\n",
      " 4  5  6  7  8  9 10       8  9 10 11 12 13 14       6  7  8  9 10 11 12\n",
      "11 12 13 14 15 16 17      15 16 17 18 19 20 21      13 14 15 16 17 18 19\n",
      "18 19 20 21 22 23 24      22 23 24 25 26 27 28      20 21 22 23 24 25 26\n",
      "25 26 27 28 29 30 31      29 30                     27 28 29 30 31\n",
      "\n"
     ]
    }
   ],
   "source": [
    "print(calendar.calendar(2021))"
   ]
  },
  {
   "cell_type": "code",
   "execution_count": 33,
   "id": "73fc8d14",
   "metadata": {
    "collapsed": true
   },
   "outputs": [
    {
     "name": "stdout",
     "output_type": "stream",
     "text": [
      "   November 2021\n",
      "Mo Tu We Th Fr Sa Su\n",
      " 1  2  3  4  5  6  7\n",
      " 8  9 10 11 12 13 14\n",
      "15 16 17 18 19 20 21\n",
      "22 23 24 25 26 27 28\n",
      "29 30\n",
      "\n"
     ]
    }
   ],
   "source": [
    "print(calendar.month(2021,11))"
   ]
  },
  {
   "cell_type": "code",
   "execution_count": 34,
   "id": "c1019a8a",
   "metadata": {
    "collapsed": true
   },
   "outputs": [
    {
     "name": "stdout",
     "output_type": "stream",
     "text": [
      "['Calendar', 'EPOCH', 'FRIDAY', 'February', 'HTMLCalendar', 'IllegalMonthError', 'IllegalWeekdayError', 'January', 'LocaleHTMLCalendar', 'LocaleTextCalendar', 'MONDAY', 'SATURDAY', 'SUNDAY', 'THURSDAY', 'TUESDAY', 'TextCalendar', 'WEDNESDAY', '_EPOCH_ORD', '__all__', '__builtins__', '__cached__', '__doc__', '__file__', '__loader__', '__name__', '__package__', '__spec__', '_colwidth', '_locale', '_localized_day', '_localized_month', '_monthlen', '_nextmonth', '_prevmonth', '_spacing', 'c', 'calendar', 'datetime', 'day_abbr', 'day_name', 'different_locale', 'error', 'firstweekday', 'format', 'formatstring', 'isleap', 'leapdays', 'main', 'mdays', 'month', 'month_abbr', 'month_name', 'monthcalendar', 'monthrange', 'prcal', 'prmonth', 'prweek', 'repeat', 'setfirstweekday', 'sys', 'timegm', 'week', 'weekday', 'weekheader']\n"
     ]
    }
   ],
   "source": [
    "print(dir(calendar))"
   ]
  },
  {
   "cell_type": "markdown",
   "id": "94cfea05",
   "metadata": {},
   "source": [
    "**User-Defined modules**"
   ]
  },
  {
   "cell_type": "code",
   "execution_count": 2,
   "id": "1ff1a9aa",
   "metadata": {},
   "outputs": [],
   "source": [
    "import packages"
   ]
  },
  {
   "cell_type": "code",
   "execution_count": 36,
   "id": "299af197",
   "metadata": {},
   "outputs": [
    {
     "name": "stdout",
     "output_type": "stream",
     "text": [
      "Odd Number\n"
     ]
    }
   ],
   "source": [
    "packages.evenOdd(44449)"
   ]
  },
  {
   "cell_type": "markdown",
   "id": "72e05fa5",
   "metadata": {},
   "source": [
    "- Factors of given number"
   ]
  },
  {
   "cell_type": "code",
   "execution_count": null,
   "id": "e254c793",
   "metadata": {},
   "outputs": [],
   "source": [
    "# 40\n",
    "# 1 * 40\n",
    "# 2 * 20\n",
    "# 5 * 8\n",
    "# 4 * 10"
   ]
  },
  {
   "cell_type": "code",
   "execution_count": 42,
   "id": "668c14dd",
   "metadata": {
    "collapsed": true
   },
   "outputs": [
    {
     "name": "stdout",
     "output_type": "stream",
     "text": [
      "1\n",
      "2\n",
      "4\n",
      "5\n",
      "8\n",
      "10\n",
      "20\n",
      "40\n"
     ]
    }
   ],
   "source": [
    "for i in range(1, 41):\n",
    "    if 40%i == 0:\n",
    "        print(i)"
   ]
  },
  {
   "cell_type": "code",
   "execution_count": 41,
   "id": "77ab3d72",
   "metadata": {
    "collapsed": true
   },
   "outputs": [
    {
     "data": {
      "text/plain": [
       "(0, 0, 1, 0, 0, 4)"
      ]
     },
     "execution_count": 41,
     "metadata": {},
     "output_type": "execute_result"
    }
   ],
   "source": [
    "40%1, 40%2, 40%3, 40%4, 40%5, 40%6"
   ]
  },
  {
   "cell_type": "code",
   "execution_count": 5,
   "id": "aa0020b2",
   "metadata": {},
   "outputs": [],
   "source": [
    "def num_factor(n):\n",
    "    for i in range(1, n+1):\n",
    "        if n%i == 0:\n",
    "            print(i)"
   ]
  },
  {
   "cell_type": "code",
   "execution_count": 11,
   "id": "7ac0474f",
   "metadata": {
    "collapsed": true
   },
   "outputs": [
    {
     "name": "stdout",
     "output_type": "stream",
     "text": [
      "1\n",
      "2\n",
      "3\n",
      "6\n",
      "9\n",
      "18\n"
     ]
    }
   ],
   "source": [
    "num_factor(18)"
   ]
  },
  {
   "cell_type": "code",
   "execution_count": 3,
   "id": "0d0acbe3",
   "metadata": {
    "collapsed": true
   },
   "outputs": [
    {
     "name": "stdout",
     "output_type": "stream",
     "text": [
      "1\n",
      "2\n",
      "4\n",
      "5\n",
      "8\n",
      "10\n",
      "20\n",
      "40\n"
     ]
    }
   ],
   "source": [
    "packages.num_factor(40)"
   ]
  },
  {
   "cell_type": "code",
   "execution_count": 4,
   "id": "9d80ed52",
   "metadata": {
    "collapsed": true
   },
   "outputs": [
    {
     "name": "stdout",
     "output_type": "stream",
     "text": [
      "['__builtins__', '__cached__', '__doc__', '__file__', '__loader__', '__name__', '__package__', '__spec__', 'evenOdd', 'num_factor']\n"
     ]
    }
   ],
   "source": [
    "print(dir(packages))"
   ]
  },
  {
   "cell_type": "markdown",
   "id": "74d70b6c",
   "metadata": {},
   "source": [
    "### Regular Expression\n",
    "- Regular expression is commonly used to search something based on patterns.\n",
    "- Syntax: import re\n",
    "    - re.method('pattern', string)"
   ]
  },
  {
   "cell_type": "code",
   "execution_count": 1,
   "id": "b100b126",
   "metadata": {},
   "outputs": [],
   "source": [
    "# [ ] --->(*Set or group*)  group of combination \n",
    "                   #  of chars & numbers etc.\n",
    "# \\  ---> Special sequence\n",
    "# .  ---> represent a Unknown character\n",
    "# ^  ----> (*Caret*)starts with\n",
    "# $  ---> (*Dollar*)ends with\n",
    "# * ---> 0 or more occorance\n",
    "# + ---> 1 or more occorance\n",
    "# { } ----> Exactly the specified no.of occorance\n",
    "# |  ----> or\n",
    "# () ---> Group"
   ]
  },
  {
   "cell_type": "code",
   "execution_count": null,
   "id": "580f6ffb",
   "metadata": {},
   "outputs": [],
   "source": [
    "# [ ] --> Set\n",
    "#============\n",
    "#[0-9]--> to find digits\n",
    "#[a-z]--> to find all small letters\n",
    "#[4-9]--> to find digits from 4 to 9\n",
    "#[A9] --> to find \"A\" and \"9\""
   ]
  },
  {
   "cell_type": "code",
   "execution_count": 2,
   "id": "e7d00b58",
   "metadata": {},
   "outputs": [],
   "source": [
    "## \\ ---> (Special Sequence)\n",
    "#===========================\n",
    "# \\d --> Any digit\n",
    "# \\D --> non-digit\n",
    "# \\s --> whitesapce (Returns 'space')\n",
    "# \\S --> non-whitespace (Removes 'space')\n",
    "# \\w --> alphanumeric\n",
    "# \\W --> non-alphanumeric (Ex: !@#$%^)"
   ]
  },
  {
   "cell_type": "code",
   "execution_count": 12,
   "id": "1e134ca1",
   "metadata": {},
   "outputs": [],
   "source": [
    "string1 = '''Pounded by rains over the past few \n",
    "days, Tamil Nadu has recorded more than 50 per \n",
    "cent excess rainfall (as compared to historical \n",
    "average) for the monsoon season starting October \n",
    "1.'''"
   ]
  },
  {
   "cell_type": "markdown",
   "id": "84e09948",
   "metadata": {},
   "source": [
    "- Find letters from 'g' to 'k' in given paragraph\n",
    "    - [g-k]"
   ]
  },
  {
   "cell_type": "code",
   "execution_count": 13,
   "id": "b5e5f47e",
   "metadata": {},
   "outputs": [],
   "source": [
    "import re"
   ]
  },
  {
   "cell_type": "code",
   "execution_count": 14,
   "id": "d8d6056f",
   "metadata": {
    "collapsed": true
   },
   "outputs": [
    {
     "name": "stdout",
     "output_type": "stream",
     "text": [
      "['i', 'h', 'i', 'h', 'h', 'i', 'h', 'i', 'i', 'g', 'h', 'i', 'g']\n"
     ]
    }
   ],
   "source": [
    "print(re.findall('[g-k]', string1))"
   ]
  },
  {
   "cell_type": "code",
   "execution_count": 15,
   "id": "97bbdf68",
   "metadata": {
    "collapsed": true
   },
   "outputs": [
    {
     "name": "stdout",
     "output_type": "stream",
     "text": [
      "['5', '0', '1']\n"
     ]
    }
   ],
   "source": [
    "# find digits in given paragraph\n",
    "print(re.findall('\\d', string1))"
   ]
  },
  {
   "cell_type": "code",
   "execution_count": 16,
   "id": "ccb5330b",
   "metadata": {
    "collapsed": true
   },
   "outputs": [
    {
     "name": "stdout",
     "output_type": "stream",
     "text": [
      "[' ', ' ', ' ', ' ', ' ', ' ', ' ', '\\n', ',', ' ', ' ', ' ', ' ', ' ', ' ', ' ', ' ', ' ', '\\n', ' ', ' ', ' ', '(', ' ', ' ', ' ', ' ', '\\n', ')', ' ', ' ', ' ', ' ', ' ', ' ', ' ', '\\n', '.']\n"
     ]
    }
   ],
   "source": [
    "# find special symbols\n",
    "print(re.findall('\\W', string1))"
   ]
  },
  {
   "cell_type": "code",
   "execution_count": 18,
   "id": "75bea5e4",
   "metadata": {
    "collapsed": true
   },
   "outputs": [
    {
     "name": "stdout",
     "output_type": "stream",
     "text": [
      "['199']\n"
     ]
    }
   ],
   "source": [
    "string2 = 'Python 1st version invented in 11-1994'\n",
    "print(re.findall('[0-9]{3}', string2))"
   ]
  },
  {
   "cell_type": "code",
   "execution_count": 19,
   "id": "53cfa562",
   "metadata": {
    "collapsed": true
   },
   "outputs": [
    {
     "name": "stdout",
     "output_type": "stream",
     "text": [
      "['1', '11', '199', '4']\n"
     ]
    }
   ],
   "source": [
    "print(re.findall('[0-9]{1,3}', string2))"
   ]
  },
  {
   "cell_type": "code",
   "execution_count": 20,
   "id": "76d4d87d",
   "metadata": {},
   "outputs": [],
   "source": [
    "def phone(n):\n",
    "    if re.match('^[6-9][0-9]{9}$', n):\n",
    "        print('Valid Number')\n",
    "    else:\n",
    "        print('Invalid Number')"
   ]
  },
  {
   "cell_type": "code",
   "execution_count": 21,
   "id": "99bde89c",
   "metadata": {
    "collapsed": true
   },
   "outputs": [
    {
     "name": "stdout",
     "output_type": "stream",
     "text": [
      "Valid Number\n",
      "Invalid Number\n",
      "Invalid Number\n"
     ]
    }
   ],
   "source": [
    "phone('9876543210')\n",
    "phone('5432109876')\n",
    "phone('876543212345')"
   ]
  },
  {
   "cell_type": "markdown",
   "id": "772ec065",
   "metadata": {},
   "source": [
    "### Comprehension\n",
    "- Short hand code\n",
    "- Types\n",
    "    - List Comprehension\n",
    "    - Tuple Comprehension\n",
    "    - Dictionary Comprehension\n",
    "    - Set Comprehension"
   ]
  },
  {
   "cell_type": "markdown",
   "id": "80a1e9ba",
   "metadata": {},
   "source": [
    "**List Comprehension**"
   ]
  },
  {
   "cell_type": "code",
   "execution_count": 22,
   "id": "27994db8",
   "metadata": {},
   "outputs": [],
   "source": [
    "list1 = []\n",
    "\n",
    "for i in range(1, 11): # Loop\n",
    "    list1.append(i) # Statemnet"
   ]
  },
  {
   "cell_type": "code",
   "execution_count": 23,
   "id": "5274a665",
   "metadata": {
    "collapsed": true
   },
   "outputs": [
    {
     "data": {
      "text/plain": [
       "[1, 2, 3, 4, 5, 6, 7, 8, 9, 10]"
      ]
     },
     "execution_count": 23,
     "metadata": {},
     "output_type": "execute_result"
    }
   ],
   "source": [
    "list1"
   ]
  },
  {
   "cell_type": "markdown",
   "id": "9e771594",
   "metadata": {},
   "source": [
    "- Syntax: [ statemnet loops ]"
   ]
  },
  {
   "cell_type": "code",
   "execution_count": 24,
   "id": "dd12106b",
   "metadata": {
    "collapsed": true
   },
   "outputs": [
    {
     "data": {
      "text/plain": [
       "[1, 2, 3, 4, 5, 6, 7, 8, 9, 10]"
      ]
     },
     "execution_count": 24,
     "metadata": {},
     "output_type": "execute_result"
    }
   ],
   "source": [
    "[i for i in range(1, 11)]"
   ]
  },
  {
   "cell_type": "code",
   "execution_count": 26,
   "id": "9a4ac1b0",
   "metadata": {
    "collapsed": true
   },
   "outputs": [
    {
     "name": "stdout",
     "output_type": "stream",
     "text": [
      "10  12  14  16  18  20  22  24  26  28  30  32  34  36  38  40  42  44  46  48  "
     ]
    }
   ],
   "source": [
    "for i in range(10, 50):\n",
    "    if i%2 == 0:\n",
    "        print(i, end = '  ')"
   ]
  },
  {
   "cell_type": "code",
   "execution_count": 27,
   "id": "45a9f0f6",
   "metadata": {
    "collapsed": true
   },
   "outputs": [
    {
     "data": {
      "text/plain": [
       "[10,\n",
       " 12,\n",
       " 14,\n",
       " 16,\n",
       " 18,\n",
       " 20,\n",
       " 22,\n",
       " 24,\n",
       " 26,\n",
       " 28,\n",
       " 30,\n",
       " 32,\n",
       " 34,\n",
       " 36,\n",
       " 38,\n",
       " 40,\n",
       " 42,\n",
       " 44,\n",
       " 46,\n",
       " 48]"
      ]
     },
     "execution_count": 27,
     "metadata": {},
     "output_type": "execute_result"
    }
   ],
   "source": [
    "# [ Statement  loop  if(condition) ]\n",
    "[i for i in range(10, 50) if i%2 == 0]"
   ]
  },
  {
   "cell_type": "code",
   "execution_count": 28,
   "id": "acdeaae2",
   "metadata": {
    "collapsed": true
   },
   "outputs": [
    {
     "name": "stdout",
     "output_type": "stream",
     "text": [
      "Even\n",
      "Odd\n",
      "Even\n",
      "Odd\n",
      "Even\n",
      "Odd\n",
      "Even\n",
      "Odd\n",
      "Even\n",
      "Odd\n",
      "Even\n",
      "Odd\n",
      "Even\n",
      "Odd\n",
      "Even\n",
      "Odd\n",
      "Even\n",
      "Odd\n",
      "Even\n",
      "Odd\n",
      "Even\n",
      "Odd\n",
      "Even\n",
      "Odd\n",
      "Even\n",
      "Odd\n",
      "Even\n",
      "Odd\n",
      "Even\n",
      "Odd\n",
      "Even\n",
      "Odd\n",
      "Even\n",
      "Odd\n",
      "Even\n",
      "Odd\n",
      "Even\n",
      "Odd\n",
      "Even\n",
      "Odd\n"
     ]
    }
   ],
   "source": [
    "for i in range(10, 50):\n",
    "    if i%2 == 0:\n",
    "        print('Even')\n",
    "    else:\n",
    "        print('Odd')"
   ]
  },
  {
   "cell_type": "code",
   "execution_count": 29,
   "id": "00c079b6",
   "metadata": {
    "collapsed": true
   },
   "outputs": [
    {
     "data": {
      "text/plain": [
       "['Even',\n",
       " 'Odd',\n",
       " 'Even',\n",
       " 'Odd',\n",
       " 'Even',\n",
       " 'Odd',\n",
       " 'Even',\n",
       " 'Odd',\n",
       " 'Even',\n",
       " 'Odd',\n",
       " 'Even',\n",
       " 'Odd',\n",
       " 'Even',\n",
       " 'Odd',\n",
       " 'Even',\n",
       " 'Odd',\n",
       " 'Even',\n",
       " 'Odd',\n",
       " 'Even',\n",
       " 'Odd',\n",
       " 'Even',\n",
       " 'Odd',\n",
       " 'Even',\n",
       " 'Odd',\n",
       " 'Even',\n",
       " 'Odd',\n",
       " 'Even',\n",
       " 'Odd',\n",
       " 'Even',\n",
       " 'Odd',\n",
       " 'Even',\n",
       " 'Odd',\n",
       " 'Even',\n",
       " 'Odd',\n",
       " 'Even',\n",
       " 'Odd',\n",
       " 'Even',\n",
       " 'Odd',\n",
       " 'Even',\n",
       " 'Odd']"
      ]
     },
     "execution_count": 29,
     "metadata": {},
     "output_type": "execute_result"
    }
   ],
   "source": [
    "# [ statement if(condition) else statement  loop]\n",
    "['Even' if i%2 == 0 else 'Odd' for i in range(10, 50)]"
   ]
  },
  {
   "cell_type": "markdown",
   "id": "ba55b4de",
   "metadata": {},
   "source": [
    "- If given rating is 4 or 5 star, print 4+ \n",
    "- If given rating is 2 or 3 star, print 2.5\n",
    "- or print 1"
   ]
  },
  {
   "cell_type": "code",
   "execution_count": 30,
   "id": "e800716c",
   "metadata": {
    "collapsed": true
   },
   "outputs": [
    {
     "name": "stdout",
     "output_type": "stream",
     "text": [
      "2.5 Rating\n",
      "1 star\n",
      "4+ rating\n",
      "1 star\n",
      "4+ rating\n"
     ]
    }
   ],
   "source": [
    "list1 = ['**', '*', '****','*','****']\n",
    "for i in list1:\n",
    "    if len(i)>=4 and len(i)<=5:\n",
    "        print('4+ rating')\n",
    "    elif len(i)>=2 and len(i)<=3:\n",
    "        print('2.5 Rating')\n",
    "    else: \n",
    "        print('1 star')"
   ]
  },
  {
   "cell_type": "code",
   "execution_count": null,
   "id": "59689d18",
   "metadata": {},
   "outputs": [],
   "source": [
    "['4+ rating' if len(i)>=4 and len(i)<=5 \n",
    " else '2.5 Rating' if len(i)>=2 and len(i)<=3 \n",
    " else '1 star' \n",
    " for i in list1]"
   ]
  }
 ],
 "metadata": {
  "kernelspec": {
   "display_name": "Python 3",
   "language": "python",
   "name": "python3"
  },
  "language_info": {
   "codemirror_mode": {
    "name": "ipython",
    "version": 3
   },
   "file_extension": ".py",
   "mimetype": "text/x-python",
   "name": "python",
   "nbconvert_exporter": "python",
   "pygments_lexer": "ipython3",
   "version": "3.8.8"
  }
 },
 "nbformat": 4,
 "nbformat_minor": 5
}
