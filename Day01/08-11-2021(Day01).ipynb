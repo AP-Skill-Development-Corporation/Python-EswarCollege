{
 "cells": [
  {
   "cell_type": "markdown",
   "id": "bd7ad992",
   "metadata": {},
   "source": [
    "- Esc + m : To convert code cell to markdown\n",
    "- Esc + y : To convert markdown to code cell\n",
    "- Shift + Enter : to run the cell"
   ]
  },
  {
   "cell_type": "markdown",
   "id": "78288761",
   "metadata": {},
   "source": [
    "# Title\n",
    "## Heading 2\n",
    "### Heading 3\n",
    "#### Heading 4\n",
    "##### Heading 5\n",
    "###### Heading 6\n",
    "\n",
    "**Bold**\n",
    "\n",
    "*Italic*"
   ]
  },
  {
   "cell_type": "markdown",
   "id": "02ce5915",
   "metadata": {},
   "source": [
    "### UnOrdered Lines\n",
    "- Line1\n",
    "- Line2\n",
    "    - Sub Line1\n",
    "    - Sub Line2\n",
    "    \n",
    "### Ordered Lines\n",
    "1. Line1\n",
    "2. Line2\n",
    "    1. Sub Line1\n",
    "    2. Sub Line2"
   ]
  },
  {
   "cell_type": "markdown",
   "id": "32c2f9a6",
   "metadata": {},
   "source": [
    "### Python Basics\n",
    " - Python is dynamically typed"
   ]
  },
  {
   "cell_type": "code",
   "execution_count": 1,
   "id": "c3483d72",
   "metadata": {},
   "outputs": [],
   "source": [
    "# int var1 = 10 ---> In C, C++, Java"
   ]
  },
  {
   "cell_type": "code",
   "execution_count": 2,
   "id": "52f228eb",
   "metadata": {
    "collapsed": true
   },
   "outputs": [
    {
     "data": {
      "text/plain": [
       "10"
      ]
     },
     "execution_count": 2,
     "metadata": {},
     "output_type": "execute_result"
    }
   ],
   "source": [
    "10"
   ]
  },
  {
   "cell_type": "code",
   "execution_count": 3,
   "id": "4475439a",
   "metadata": {
    "collapsed": true
   },
   "outputs": [
    {
     "data": {
      "text/plain": [
       "int"
      ]
     },
     "execution_count": 3,
     "metadata": {},
     "output_type": "execute_result"
    }
   ],
   "source": [
    "type(10)"
   ]
  },
  {
   "cell_type": "markdown",
   "id": "8ee99500",
   "metadata": {},
   "source": [
    "**Data Type**\n",
    "- Numerical\n",
    "    - Integer (int)\n",
    "    - float (float)\n",
    "    - complex\n",
    "- String\n",
    "    - str\n",
    "- Boolean\n",
    "    - bool\n",
    "- List\n",
    "- Tuple\n",
    "- Dictionary\n",
    "- Set"
   ]
  },
  {
   "cell_type": "markdown",
   "id": "750f5cac",
   "metadata": {},
   "source": [
    "**Type Casting**\n",
    "- Data Type Conversion"
   ]
  },
  {
   "cell_type": "code",
   "execution_count": 4,
   "id": "626ffacf",
   "metadata": {
    "collapsed": true
   },
   "outputs": [
    {
     "data": {
      "text/plain": [
       "999.0"
      ]
     },
     "execution_count": 4,
     "metadata": {},
     "output_type": "execute_result"
    }
   ],
   "source": [
    "float(999)"
   ]
  },
  {
   "cell_type": "code",
   "execution_count": 5,
   "id": "5ef74913",
   "metadata": {
    "collapsed": true
   },
   "outputs": [
    {
     "data": {
      "text/plain": [
       "'999'"
      ]
     },
     "execution_count": 5,
     "metadata": {},
     "output_type": "execute_result"
    }
   ],
   "source": [
    "str(999)"
   ]
  },
  {
   "cell_type": "markdown",
   "id": "b4b4935d",
   "metadata": {},
   "source": [
    "**To display output**\n",
    "- print('Output')\n",
    "\n",
    "**Take input from user**\n",
    "- input()\n",
    "- int(input())\n",
    "- float(input())"
   ]
  },
  {
   "cell_type": "markdown",
   "id": "289f88e3",
   "metadata": {},
   "source": [
    "**Variable**\n",
    "- Variables are used to store the values\n",
    "\n",
    "**Identifier**\n",
    "- To name the variable\n",
    "\n",
    "*Rules*\n",
    "- Starts with alphabets or _\n",
    "- Can contains numbers but not special symbols."
   ]
  },
  {
   "cell_type": "code",
   "execution_count": 6,
   "id": "48793bf3",
   "metadata": {},
   "outputs": [],
   "source": [
    "_number1 = 980.777"
   ]
  },
  {
   "cell_type": "code",
   "execution_count": 7,
   "id": "d0779cf2",
   "metadata": {
    "collapsed": true
   },
   "outputs": [
    {
     "name": "stdout",
     "output_type": "stream",
     "text": [
      "980.777\n"
     ]
    }
   ],
   "source": [
    "print(_number1)"
   ]
  },
  {
   "cell_type": "code",
   "execution_count": 8,
   "id": "b11872fd",
   "metadata": {
    "collapsed": true
   },
   "outputs": [
    {
     "ename": "SyntaxError",
     "evalue": "invalid syntax (<ipython-input-8-28d4792b1a83>, line 1)",
     "output_type": "error",
     "traceback": [
      "\u001b[1;36m  File \u001b[1;32m\"<ipython-input-8-28d4792b1a83>\"\u001b[1;36m, line \u001b[1;32m1\u001b[0m\n\u001b[1;33m    2number_ = 5000\u001b[0m\n\u001b[1;37m     ^\u001b[0m\n\u001b[1;31mSyntaxError\u001b[0m\u001b[1;31m:\u001b[0m invalid syntax\n"
     ]
    }
   ],
   "source": [
    "2number_ = 5000 # Invalid varible name"
   ]
  },
  {
   "cell_type": "markdown",
   "id": "49752ab9",
   "metadata": {},
   "source": [
    "**Keywords**\n",
    "- Every keyword perform a special task"
   ]
  },
  {
   "cell_type": "code",
   "execution_count": 10,
   "id": "0cf284c9",
   "metadata": {},
   "outputs": [],
   "source": [
    "import keyword"
   ]
  },
  {
   "cell_type": "code",
   "execution_count": 11,
   "id": "16491d75",
   "metadata": {
    "collapsed": true
   },
   "outputs": [
    {
     "name": "stdout",
     "output_type": "stream",
     "text": [
      "['False', 'None', 'True', 'and', 'as', 'assert', 'async', 'await', 'break', 'class', 'continue', 'def', 'del', 'elif', 'else', 'except', 'finally', 'for', 'from', 'global', 'if', 'import', 'in', 'is', 'lambda', 'nonlocal', 'not', 'or', 'pass', 'raise', 'return', 'try', 'while', 'with', 'yield']\n"
     ]
    }
   ],
   "source": [
    "print(keyword.kwlist)"
   ]
  },
  {
   "cell_type": "code",
   "execution_count": 12,
   "id": "baaa4b3c",
   "metadata": {
    "collapsed": true
   },
   "outputs": [
    {
     "ename": "ValueError",
     "evalue": "invalid literal for int() with base 10: 'a'",
     "output_type": "error",
     "traceback": [
      "\u001b[1;31m---------------------------------------------------------------------------\u001b[0m",
      "\u001b[1;31mValueError\u001b[0m                                Traceback (most recent call last)",
      "\u001b[1;32m<ipython-input-12-233884bacd4e>\u001b[0m in \u001b[0;36m<module>\u001b[1;34m\u001b[0m\n\u001b[1;32m----> 1\u001b[1;33m \u001b[0mint\u001b[0m\u001b[1;33m(\u001b[0m\u001b[1;34m'a'\u001b[0m\u001b[1;33m)\u001b[0m\u001b[1;33m\u001b[0m\u001b[1;33m\u001b[0m\u001b[0m\n\u001b[0m",
      "\u001b[1;31mValueError\u001b[0m: invalid literal for int() with base 10: 'a'"
     ]
    }
   ],
   "source": [
    "int('a')"
   ]
  },
  {
   "cell_type": "code",
   "execution_count": 14,
   "id": "53f10b15",
   "metadata": {
    "collapsed": true
   },
   "outputs": [
    {
     "name": "stdout",
     "output_type": "stream",
     "text": [
      "97\n",
      "123\n"
     ]
    }
   ],
   "source": [
    "print(ord('a'))\n",
    "print(ord('{'))"
   ]
  },
  {
   "cell_type": "markdown",
   "id": "e1aada8e",
   "metadata": {},
   "source": [
    "**Operators**\n",
    "- Arithmetic\n",
    "- Assignment\n",
    "- Relational\n",
    "- Logical\n",
    "- Bitwise\n",
    "- Identity\n",
    "- Membership"
   ]
  },
  {
   "cell_type": "code",
   "execution_count": 15,
   "id": "41f4fb05",
   "metadata": {
    "collapsed": true
   },
   "outputs": [
    {
     "name": "stdout",
     "output_type": "stream",
     "text": [
      "30\n",
      "10\n",
      "200\n",
      "0\n"
     ]
    }
   ],
   "source": [
    "# Arithmetic\n",
    "## +,-,*,/,%, //, **\n",
    "print(20 + 10)\n",
    "print(20 - 10)\n",
    "print(20 * 10)\n",
    "print(20 % 10)"
   ]
  },
  {
   "cell_type": "code",
   "execution_count": 16,
   "id": "c4c7449e",
   "metadata": {
    "collapsed": true
   },
   "outputs": [
    {
     "name": "stdout",
     "output_type": "stream",
     "text": [
      "6.666666666666667\n",
      "6\n"
     ]
    }
   ],
   "source": [
    "print(20 / 3)\n",
    "print(20 // 3)# floor division"
   ]
  },
  {
   "cell_type": "code",
   "execution_count": 17,
   "id": "f5af72a1",
   "metadata": {
    "collapsed": true
   },
   "outputs": [
    {
     "name": "stdout",
     "output_type": "stream",
     "text": [
      "8\n"
     ]
    }
   ],
   "source": [
    "print(2 ** 3)# power"
   ]
  },
  {
   "cell_type": "code",
   "execution_count": 19,
   "id": "f0258982",
   "metadata": {},
   "outputs": [],
   "source": [
    "# Assignment Operator\n",
    "## =, +=, -=, *=, %=, /=, //=, **=\n",
    "\n",
    "a1 = 5\n",
    "a2 = 5"
   ]
  },
  {
   "cell_type": "code",
   "execution_count": 20,
   "id": "4ec8d41a",
   "metadata": {
    "collapsed": true
   },
   "outputs": [
    {
     "name": "stdout",
     "output_type": "stream",
     "text": [
      "10 10\n"
     ]
    }
   ],
   "source": [
    "a1 = a1 + 5\n",
    "a2 += 5\n",
    "print(a1, a2)"
   ]
  },
  {
   "cell_type": "code",
   "execution_count": 21,
   "id": "ea4443b0",
   "metadata": {
    "collapsed": true
   },
   "outputs": [
    {
     "name": "stdout",
     "output_type": "stream",
     "text": [
      "10\n"
     ]
    }
   ],
   "source": [
    "print(a2)"
   ]
  },
  {
   "cell_type": "code",
   "execution_count": 22,
   "id": "7e0b97c8",
   "metadata": {
    "collapsed": true
   },
   "outputs": [
    {
     "name": "stdout",
     "output_type": "stream",
     "text": [
      "2.0\n"
     ]
    }
   ],
   "source": [
    "a2 /= 5\n",
    "print(a2)"
   ]
  },
  {
   "cell_type": "code",
   "execution_count": 23,
   "id": "147fd5b3",
   "metadata": {},
   "outputs": [],
   "source": [
    "# Relational\n",
    "## ==, !=, >=, >, <=, <"
   ]
  },
  {
   "cell_type": "code",
   "execution_count": 26,
   "id": "cf7a99c1",
   "metadata": {
    "collapsed": true
   },
   "outputs": [
    {
     "name": "stdout",
     "output_type": "stream",
     "text": [
      "True\n",
      "True\n",
      "False\n"
     ]
    }
   ],
   "source": [
    "print(12 == 12)\n",
    "print(12 >= 12)\n",
    "print(12 > 12)"
   ]
  },
  {
   "cell_type": "code",
   "execution_count": 27,
   "id": "ab169f4a",
   "metadata": {},
   "outputs": [],
   "source": [
    "# Logical Operator\n",
    "## and, or, not"
   ]
  },
  {
   "cell_type": "code",
   "execution_count": 29,
   "id": "d8918060",
   "metadata": {
    "collapsed": true
   },
   "outputs": [
    {
     "name": "stdout",
     "output_type": "stream",
     "text": [
      "False\n",
      "True\n"
     ]
    }
   ],
   "source": [
    "print((12 == 12) and (12 != 12))\n",
    "print((12 == 12) and (12 >= 12))"
   ]
  },
  {
   "cell_type": "code",
   "execution_count": 31,
   "id": "f6af0db5",
   "metadata": {
    "collapsed": true
   },
   "outputs": [
    {
     "name": "stdout",
     "output_type": "stream",
     "text": [
      "True\n",
      "False\n"
     ]
    }
   ],
   "source": [
    "print((12 == 12) or (12 != 12))\n",
    "print((10 > 1000) or (20 > 2000))"
   ]
  },
  {
   "cell_type": "code",
   "execution_count": 32,
   "id": "1441da3f",
   "metadata": {},
   "outputs": [
    {
     "data": {
      "text/plain": [
       "False"
      ]
     },
     "execution_count": 32,
     "metadata": {},
     "output_type": "execute_result"
    }
   ],
   "source": [
    "not(10 > 5)"
   ]
  },
  {
   "cell_type": "code",
   "execution_count": null,
   "id": "4776f870",
   "metadata": {},
   "outputs": [],
   "source": []
  }
 ],
 "metadata": {
  "kernelspec": {
   "display_name": "Python 3",
   "language": "python",
   "name": "python3"
  },
  "language_info": {
   "codemirror_mode": {
    "name": "ipython",
    "version": 3
   },
   "file_extension": ".py",
   "mimetype": "text/x-python",
   "name": "python",
   "nbconvert_exporter": "python",
   "pygments_lexer": "ipython3",
   "version": "3.8.8"
  }
 },
 "nbformat": 4,
 "nbformat_minor": 5
}
